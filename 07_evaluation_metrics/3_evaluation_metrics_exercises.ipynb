{
 "cells": [
  {
   "cell_type": "markdown",
   "id": "fcd279b6",
   "metadata": {
    "colab_type": "text",
    "id": "view-in-github"
   },
   "source": [
    "<a href=\"https://colab.research.google.com/github/alouwyck/vives-machine-learning-translated/blob/main/07_evaluation_metrics/3_evaluation_metrics_exercises.ipynb\" target=\"_parent\"><img src=\"https://colab.research.google.com/assets/colab-badge.svg\" alt=\"Open In Colab\"/></a>"
   ]
  },
  {
   "cell_type": "markdown",
   "id": "30ccba0a",
   "metadata": {
    "id": "p34cmLp6FrA6"
   },
   "source": [
    "<img src=\"data:image/png;base64,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\" align=\"right\" /><br>\n",
    "\n",
    "\n",
    "**MACHINE LEARNING FUNDAMENTALS**<br>Andy Louwyck\n",
    "\n",
    "---\n",
    "\n",
    "\n",
    "\n",
    "---\n",
    "\n"
   ]
  },
  {
   "cell_type": "markdown",
   "id": "e66431b5",
   "metadata": {
    "id": "SC8EYW4esQSa"
   },
   "source": [
    "# EVALUATION METRICS: EXERCISES"
   ]
  },
  {
   "cell_type": "markdown",
   "id": "ccacef99",
   "metadata": {
    "id": "lLIjpazTsWa5"
   },
   "source": [
    "## Exercise 1"
   ]
  },
  {
   "cell_type": "markdown",
   "id": "52ec2788",
   "metadata": {
    "id": "ZYQC_bLKsbGe"
   },
   "source": [
    "Define a class `Metrics` that calculates the following metrics in separate methods:\n",
    "\n",
    "- Confusion Matrix\n",
    "- Accuracy\n",
    "- Recall\n",
    "- Precision\n",
    "- $F_1$-score\n",
    "- $F_\\beta$-score\n",
    "- Sensitivity\n",
    "- Specificity\n",
    "- True Positive Rate\n",
    "- False Positive Rate\n",
    "- True Negative Rate\n",
    "- False Negative Rate\n",
    "\n",
    "Do NOT use scikit-learn here!\n",
    "\n",
    "The constructor must be given the labels `y` and the predictions `yp`, which are then stored in attributes with the same name.\n",
    "\n",
    "First calculate the True Positives, True Negatives, False Positives and False Negatives. Put these in the respective attributes `TP`, `TN`, `FP` and `FN`. Based on these values, all requested metrics can then be easily calculated.\n",
    "\n",
    "Put the confusion matrix in a Pandas `DataFrame` and add the totals to it as well. Also provide a print method that nicely lists all other metrics. Provide an input parameter `ndigits` that determines the number of digits after the decimal point and is 2 by default."
   ]
  },
  {
   "cell_type": "code",
   "execution_count": null,
   "id": "73aa1c0d",
   "metadata": {
    "id": "ZHcvRyam80vI"
   },
   "outputs": [],
   "source": []
  },
  {
   "cell_type": "markdown",
   "id": "c7962542",
   "metadata": {
    "id": "EuPWWVRZ1mXu"
   },
   "source": [
    "Then use your class `Metrics` to calculate and print all these metrics for the datasets below, where the first class 'spam' is the 'positive' class.\n",
    "\n",
    "Study the results so that you get a feel for the different metrics. Also come up with your own datasets and study the metrics!\n",
    "\n",
    "Tip: first write a generic function that converts the data about the datasets to labels `y` and predictions `yp`."
   ]
  },
  {
   "cell_type": "code",
   "execution_count": null,
   "id": "f73be00d",
   "metadata": {
    "id": "ldkC-KHh840t"
   },
   "outputs": [],
   "source": []
  },
  {
   "cell_type": "markdown",
   "id": "1a3c1d86",
   "metadata": {
    "id": "RIkLVYTf6wjZ"
   },
   "source": [
    "Dataset 1:\n",
    "  - spam:\n",
    "    -total: 4\n",
    "    - misclassified: 1\n",
    "  - ham:\n",
    "    -total: 6\n",
    "    - misclassified: 2"
   ]
  },
  {
   "cell_type": "code",
   "execution_count": null,
   "id": "6d5a2012",
   "metadata": {
    "id": "NoiKot0G86re"
   },
   "outputs": [],
   "source": []
  },
  {
   "cell_type": "markdown",
   "id": "8c4dff46",
   "metadata": {
    "id": "jjv6Z1CY6zJf"
   },
   "source": [
    "Dataset 2: - spam: - total: 50 - misclassified: 0 - ham: - total: 950 - misclassified: 0"
   ]
  },
  {
   "cell_type": "code",
   "execution_count": null,
   "id": "5652e39c",
   "metadata": {
    "id": "sW9_UQ668-YN"
   },
   "outputs": [],
   "source": []
  },
  {
   "cell_type": "markdown",
   "id": "8567f2c7",
   "metadata": {
    "id": "32bgUm4460vm"
   },
   "source": [
    "Dataset 3:\n",
    "  - spam:\n",
    "    - total: 50\n",
    "    - misclassified: 50\n",
    "  - ham:\n",
    "    - total: 950\n",
    "    - misclassified: 950"
   ]
  },
  {
   "cell_type": "code",
   "execution_count": null,
   "id": "ac9c36d9",
   "metadata": {
    "id": "6Jb2lO0w8__T"
   },
   "outputs": [],
   "source": []
  },
  {
   "cell_type": "markdown",
   "id": "a24a2c81",
   "metadata": {
    "id": "8mxmSiqe62H3"
   },
   "source": [
    "Dataset 4: - spam: - total: 50 - misclassified: 50 - ham: - total: 950 - misclassified: 0"
   ]
  },
  {
   "cell_type": "code",
   "execution_count": null,
   "id": "25afdbd2",
   "metadata": {
    "id": "vNYPoLEt9CS7"
   },
   "outputs": [],
   "source": []
  },
  {
   "cell_type": "markdown",
   "id": "e4e30368",
   "metadata": {
    "id": "wczvjy987OQD"
   },
   "source": [
    "Dataset 5:\n",
    "  - spam:\n",
    "    - total: 50\n",
    "    - misclassified: 0\n",
    "  - ham:\n",
    "    - total: 950\n",
    "    - misclassified: 950"
   ]
  },
  {
   "cell_type": "code",
   "execution_count": null,
   "id": "61dc6906",
   "metadata": {
    "id": "bPAvXAoc9GXP"
   },
   "outputs": [],
   "source": []
  },
  {
   "cell_type": "markdown",
   "id": "9ad5e30a",
   "metadata": {
    "id": "JuNJ9nAtBmli"
   },
   "source": [
    "Data set 6:\n",
    "  - spam:\n",
    "    - total: 50\n",
    "    - misclassified: 2\n",
    "  - ham:\n",
    "    - total: 950\n",
    "    - misclassified: 16"
   ]
  },
  {
   "cell_type": "code",
   "execution_count": null,
   "id": "f00fef5b",
   "metadata": {
    "id": "rMAZpK9w9I-D"
   },
   "outputs": [],
   "source": []
  },
  {
   "cell_type": "markdown",
   "id": "ace0b41e",
   "metadata": {
    "id": "hZkN_c93-zTm"
   },
   "source": [
    "Data set 7:\n",
    "  - spam:\n",
    "    - total: 50\n",
    "    - misclassified: 48\n",
    "  - ham:\n",
    "    - total: 950\n",
    "    - misclassified: 3"
   ]
  },
  {
   "cell_type": "code",
   "execution_count": null,
   "id": "de7ebae2",
   "metadata": {
    "id": "xXaKaDuM9KXU"
   },
   "outputs": [],
   "source": []
  },
  {
   "cell_type": "markdown",
   "id": "b09be7c0",
   "metadata": {
    "id": "3cUuwmvtB8jY"
   },
   "source": [
    "Dataset 8: - spam: - total: 500 - misclassified: 324 - ham: - total: 500 - misclassified: 23"
   ]
  },
  {
   "cell_type": "code",
   "execution_count": null,
   "id": "5cf34b88",
   "metadata": {
    "id": "VnkwNoFc9MoB"
   },
   "outputs": [],
   "source": []
  },
  {
   "cell_type": "markdown",
   "id": "26e7dfaa",
   "metadata": {
    "id": "fSjt-PFBCRFq"
   },
   "source": [
    "Data set 9:\n",
    "  - spam:\n",
    "    - total: 500\n",
    "    - misclassified: 13\n",
    "  - ham:\n",
    "    - total: 500\n",
    "    - misclassified: 402"
   ]
  },
  {
   "cell_type": "code",
   "execution_count": null,
   "id": "6ec427ee",
   "metadata": {
    "id": "MCmJWU3I9O5A"
   },
   "outputs": [],
   "source": []
  },
  {
   "cell_type": "markdown",
   "id": "8cb51add",
   "metadata": {
    "id": "3GcnXpIdCbn2"
   },
   "source": [
    "Dataset 10: - spam: - total: 500 - misclassified: 1 - ham: - total: 500 - misclassified: 499"
   ]
  },
  {
   "cell_type": "code",
   "execution_count": null,
   "id": "db3de184",
   "metadata": {
    "id": "woGBSDSL9P4n"
   },
   "outputs": [],
   "source": []
  },
  {
   "cell_type": "markdown",
   "id": "1358a8e3",
   "metadata": {
    "id": "aBCuXm5EtWdI"
   },
   "source": [
    "## Exercise 2"
   ]
  },
  {
   "cell_type": "markdown",
   "id": "c4f6e2a7",
   "metadata": {
    "id": "bykEtG07tcKN"
   },
   "source": [
    "Consider the confusion matrix below.\n",
    "\n",
    "```python\n",
    "[[283, 17],\n",
    "[43, 257]]\n",
    "```\n",
    "\n",
    "In this case, the rows are the numbers of predictions and the columns are the numbers of labels. How can you quickly swap that? In other words, how can you quickly put the predictions in the columns and the labels in the rows? Or put another way, how can you swap the False Negatives and False Positives with one command?\n",
    "\n",
    "Then calculate the different metrics. Define a class `ConfusionMatrix` that accepts a NumPy array (with labels in the rows and predictions in the columns) and calculates all metrics based on this array. Use the NumPy array method `sum` to sum the correct rows or columns. Also provide a method `to_dataframe` that converts the input array to a Pandas `DataFrame` and adds the totals to it. Of course, you can also define a `print` method that prints out all metrics nicely.\n",
    "\n",
    "Finally, check whether the metrics accuracy, recall, precision and $F_1$-score are calculated correctly by using functions from Scikit-Learn, and also check how the confusion matrix is ​​constructed by Scikit-Learn."
   ]
  },
  {
   "cell_type": "code",
   "execution_count": null,
   "id": "2f4ad89f",
   "metadata": {
    "id": "6m38h6ym9WTn"
   },
   "outputs": [],
   "source": []
  },
  {
   "cell_type": "markdown",
   "id": "35f1261c",
   "metadata": {
    "id": "PcR5vPg42qG-"
   },
   "source": [
    "## Exercise 3"
   ]
  },
  {
   "cell_type": "markdown",
   "id": "bfc752f0",
   "metadata": {
    "id": "5c36nFnMfFOf"
   },
   "source": [
    "Read the following files with fictitious data:\n",
    "- `verzekering_1.json`\n",
    "- `verzekering_2.json`\n",
    "- `verzekering_3.json`\n",
    "- `verzekering_4.json`\n",
    "\n",
    "Plot the datasets using a scatterplot. On the X-axis you put the age, on the Y-axis the monthly salary. Give the data points with risk `'low'` a green color, those with risk `'high'` a red color."
   ]
  },
  {
   "cell_type": "markdown",
   "id": "3a36d671",
   "metadata": {
    "id": "yviDLNpOfkti"
   },
   "source": [
    "Then train a Logistic Regression model on each dataset using Scikit-Learn. Do not apply regularization. It is also not necessary to split your dataset. Add the obtained separating line to the scatterplot of the dataset each time.\n",
    "\n",
    "Evaluate each model by creating the confusion matrix and calculating the following metrics:\n",
    "\n",
    "- accuracy\n",
    "- recall\n",
    "- precision\n",
    "- $F_1$-score\n",
    "\n",
    "Use Scikit-Learn functions here as well."
   ]
  },
  {
   "cell_type": "markdown",
   "id": "34c8c4eb",
   "metadata": {
    "id": "772UGns8gJ3h"
   },
   "source": [
    "Finally, plot the ROC curve for each model. Add to this plot the diagonal corresponding to the random classifier. Indicate the point closest to FPR=0 and TPR=1 on the curve, and enter the corresponding optimal threshold in the plot title. Include the AUC in the graph legend."
   ]
  },
  {
   "cell_type": "markdown",
   "id": "2156cb33",
   "metadata": {
    "id": "RuSNxH1Hgp_L"
   },
   "source": [
    "Tip: Use loops and subplots to reduce programming work!"
   ]
  },
  {
   "cell_type": "code",
   "execution_count": null,
   "id": "800a294f",
   "metadata": {
    "id": "jrNV0EOu9eLE"
   },
   "outputs": [],
   "source": []
  }
 ],
 "metadata": {},
 "nbformat": 4,
 "nbformat_minor": 5
}
