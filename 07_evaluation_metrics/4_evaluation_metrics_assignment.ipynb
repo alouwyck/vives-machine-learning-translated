{
 "cells": [
  {
   "cell_type": "markdown",
   "id": "eafccd74",
   "metadata": {
    "colab_type": "text",
    "id": "view-in-github"
   },
   "source": [
    "<a href=\"https://colab.research.google.com/github/alouwyck/vives-machine-learning-translated/blob/main/07_evaluation_metrics/4_evaluation_metrics_assignment.ipynb\" target=\"_parent\"><img src=\"https://colab.research.google.com/assets/colab-badge.svg\" alt=\"Open In Colab\"/></a>"
   ]
  },
  {
   "cell_type": "markdown",
   "id": "12afd49a",
   "metadata": {
    "id": "p34cmLp6FrA6"
   },
   "source": [
    "<img src=\"data:image/png;base64,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\" align=\"right\" /><br>\n",
    "\n",
    "\n",
    "**MACHINE LEARNING FUNDAMENTALS**<br>Andy Louwyck\n",
    "\n",
    "---\n",
    "\n",
    "\n",
    "\n",
    "---\n",
    "\n"
   ]
  },
  {
   "cell_type": "markdown",
   "id": "bf29a524",
   "metadata": {
    "id": "dgqsSBOOUsIn"
   },
   "source": [
    "# EVALUATION METRICS: ASSIGNMENT"
   ]
  },
  {
   "cell_type": "markdown",
   "id": "d59410d4",
   "metadata": {
    "id": "lJ7jOcmrZ6Zw"
   },
   "source": [
    "In this assignment you will apply the metrics discussed in Topic 7 to models trained on the dataset with Python reviews. You can find that dataset in the file \"reviews_python.csv\".\n",
    "\n",
    "For the metrics you will use the module `metrics` of `sklearn`. Look up the metrics in the documentation and apply them to the results of a perceptron and a logistic regression model for this dataset. Also use the classes `Perceptron` and `LogisticRegression` from the module `sklearn.linear_model`.\n",
    "\n",
    "In practice you will split the dataset into a training set and a test set, but because we only have 30 examples in this set, we will train the models on the complete set, and instead of a test set we will only evaluate the training set on the different metrics."
   ]
  },
  {
   "cell_type": "markdown",
   "id": "8298c1fa",
   "metadata": {
    "id": "amb2srvZd3yH"
   },
   "source": [
    "## Import statements"
   ]
  },
  {
   "cell_type": "markdown",
   "id": "f2162c15",
   "metadata": {
    "id": "JGa7VxiPVEXl"
   },
   "source": [
    "First import the necessary packages, modules, classes and functions here"
   ]
  },
  {
   "cell_type": "code",
   "execution_count": null,
   "id": "f6d9ba31",
   "metadata": {
    "id": "O4ODg7aO_B7o"
   },
   "outputs": [],
   "source": []
  },
  {
   "cell_type": "markdown",
   "id": "8f534e24",
   "metadata": {
    "id": "SsY_Znc-eFFQ"
   },
   "source": [
    "## Dataset"
   ]
  },
  {
   "cell_type": "markdown",
   "id": "97ba4198",
   "metadata": {
    "id": "5b8ar30OVHFf"
   },
   "source": [
    "Read the file \"reviews_python.csv\"."
   ]
  },
  {
   "cell_type": "code",
   "execution_count": null,
   "id": "9c80cbf7",
   "metadata": {
    "id": "0s9EV9bcCLeK"
   },
   "outputs": [],
   "source": []
  },
  {
   "cell_type": "markdown",
   "id": "e0182879",
   "metadata": {
    "id": "RYDQdWvYVN6i"
   },
   "source": [
    "Create an extra column with the labels, and 2 extra columns with features, namely the number of positive and the number of negative words. The lists with positive and negative words respectively are already given to you as a gift."
   ]
  },
  {
   "cell_type": "code",
   "execution_count": null,
   "id": "7ebdcf90",
   "metadata": {
    "id": "ykqGHFiVVnaT"
   },
   "outputs": [],
   "source": [
    "positive = [\"nice\", \"interesting\", \"happy\", \"easy\", \"incredible\", \"love\", \"like\", \"clean\", \"readable\",\n",
    "\"efficient\", \"fast\", \"cool\", \"powerful\"]\n",
    "negative = [\"hate\", \"sick\", \"difficult\", \"nothing\", \"slow\", \"yuck\", \"junk\", \"waste of time\", \"bad\", \"confusing\"]"
   ]
  },
  {
   "cell_type": "code",
   "execution_count": null,
   "id": "01554821",
   "metadata": {
    "id": "L470LqhZeRNS"
   },
   "outputs": [],
   "source": []
  },
  {
   "cell_type": "markdown",
   "id": "9290c427",
   "metadata": {
    "id": "FhM0eM_jebBq"
   },
   "source": [
    "## Perceptron model"
   ]
  },
  {
   "cell_type": "markdown",
   "id": "c8d5796b",
   "metadata": {
    "id": "nkb6I5ZWehq0"
   },
   "source": [
    "### Model training"
   ]
  },
  {
   "cell_type": "markdown",
   "id": "7e4f09b6",
   "metadata": {
    "id": "XGOSrbGEV_QY"
   },
   "source": [
    "Apply the perceptron algorithm to the dataset. Use the features you have set up above. You do not need to split the dataset."
   ]
  },
  {
   "cell_type": "code",
   "execution_count": null,
   "id": "1cc66464",
   "metadata": {
    "id": "B036jSkHA-Wk"
   },
   "outputs": [],
   "source": []
  },
  {
   "cell_type": "markdown",
   "id": "0863b87a",
   "metadata": {
    "id": "OncaRlLKZEO-"
   },
   "source": [
    "Calculate the predictions:"
   ]
  },
  {
   "cell_type": "code",
   "execution_count": null,
   "id": "bf1eb4dc",
   "metadata": {
    "id": "_q6xnldHWb4V"
   },
   "outputs": [],
   "source": []
  },
  {
   "cell_type": "markdown",
   "id": "c7fbf859",
   "metadata": {
    "id": "514OEvR0empJ"
   },
   "source": [
    "### Evaluate Model"
   ]
  },
  {
   "cell_type": "markdown",
   "id": "51ef1554",
   "metadata": {
    "id": "674BdYLseowj"
   },
   "source": [
    "As mentioned, in practice we will evaluate the model using a validation and test set, but because the dataset is too small, we simply take the training set."
   ]
  },
  {
   "cell_type": "markdown",
   "id": "a3b9bd08",
   "metadata": {
    "id": "mu11LV7bWOAi"
   },
   "source": [
    "Give the confusion matrix. Also make a plot and present the TP, TN, FP and FN as percentages."
   ]
  },
  {
   "cell_type": "code",
   "execution_count": null,
   "id": "a28c163c",
   "metadata": {
    "id": "MWXWaIN38LYD"
   },
   "outputs": [],
   "source": []
  },
  {
   "cell_type": "markdown",
   "id": "3da6d41a",
   "metadata": {
    "id": "YDPOXExqZMhs"
   },
   "source": [
    "Compute the following metrics: accuracy, precision, recall, F$_{1}$-score, and F$_{\\beta}$-score with $\\beta$ equal to 2 and 1/2:"
   ]
  },
  {
   "cell_type": "code",
   "execution_count": null,
   "id": "2f3c380f",
   "metadata": {
    "id": "mW76CppqBJgd"
   },
   "outputs": [],
   "source": []
  },
  {
   "cell_type": "markdown",
   "id": "b6a2af5d",
   "metadata": {
    "id": "SZ15HKIe_22S"
   },
   "source": [
    "### Conclusions"
   ]
  },
  {
   "cell_type": "markdown",
   "id": "d406a818",
   "metadata": {
    "id": "RGlw_hOH_6LB"
   },
   "source": [
    "Discuss the results obtained!"
   ]
  },
  {
   "cell_type": "markdown",
   "id": "7926cc22",
   "metadata": {
    "id": "Tow1sX3L6F6E"
   },
   "source": [
    "*Markdown with answer here!*"
   ]
  },
  {
   "cell_type": "markdown",
   "id": "215254cb",
   "metadata": {
    "id": "36jAXY9ce8cj"
   },
   "source": [
    "## Logistic regression model"
   ]
  },
  {
   "cell_type": "markdown",
   "id": "a4445694",
   "metadata": {
    "id": "LXj0XNX5fg2I"
   },
   "source": [
    "### Model training"
   ]
  },
  {
   "cell_type": "markdown",
   "id": "54015b50",
   "metadata": {
    "id": "1jiSL63-e_Aq"
   },
   "source": [
    "Now apply the logistic regression algorithm to the dataset."
   ]
  },
  {
   "cell_type": "code",
   "execution_count": null,
   "id": "60899ee5",
   "metadata": {
    "id": "iYF3zpQnBLsu"
   },
   "outputs": [],
   "source": []
  },
  {
   "cell_type": "markdown",
   "id": "15053b11",
   "metadata": {
    "id": "wLUhFJ0lfL1v"
   },
   "source": [
    "Calculate the predictions: probabilities and predicted labels! Tip, read the sklearn documentation, use `predict` and `predict_proba`!"
   ]
  },
  {
   "cell_type": "code",
   "execution_count": null,
   "id": "c1b8a4ae",
   "metadata": {
    "id": "RUAdmoCJBM-T"
   },
   "outputs": [],
   "source": []
  },
  {
   "cell_type": "markdown",
   "id": "cf9407c9",
   "metadata": {
    "id": "nFYz4UUtfj77"
   },
   "source": [
    "### Evaluate Model"
   ]
  },
  {
   "cell_type": "markdown",
   "id": "38d1df17",
   "metadata": {
    "id": "36yDHidjfoIl"
   },
   "source": [
    "Here too we take the training set, but remember that in practice you will have to work with a validation and test set!"
   ]
  },
  {
   "cell_type": "markdown",
   "id": "68e01058",
   "metadata": {
    "id": "yN4euRGzfTjb"
   },
   "source": [
    "Also give the confusion matrix here. Make a plot again with the percentages."
   ]
  },
  {
   "cell_type": "code",
   "execution_count": null,
   "id": "a3c066fb",
   "metadata": {
    "id": "xkzJK5r_BO-Y"
   },
   "outputs": [],
   "source": []
  },
  {
   "cell_type": "markdown",
   "id": "2e13b66c",
   "metadata": {
    "id": "RUrp_Pjt-AaE"
   },
   "source": [
    "Also calculate the following metrics here: accuracy, precision, recall, F$_{1}$-score and F$_{\\beta}$-score with $\\beta$ equal to 2 and 1/2:"
   ]
  },
  {
   "cell_type": "code",
   "execution_count": null,
   "id": "e2da68dc",
   "metadata": {
    "id": "-Zv9GkStBRDq"
   },
   "outputs": [],
   "source": []
  },
  {
   "cell_type": "markdown",
   "id": "163689b1",
   "metadata": {
    "id": "7GIBe7iWgAEO"
   },
   "source": [
    "Plot the ROC curve and report the AUC. Also include the diagonal representing the random classifier. Indicate the point closest to the perfect classifier and report the corresponding threshold in the title."
   ]
  },
  {
   "cell_type": "code",
   "execution_count": null,
   "id": "330994a3",
   "metadata": {
    "id": "Ku69BMusBTu8"
   },
   "outputs": [],
   "source": []
  },
  {
   "cell_type": "markdown",
   "id": "c360d542",
   "metadata": {
    "id": "eft_VCSLAI87"
   },
   "source": [
    "### Conclusions"
   ]
  },
  {
   "cell_type": "markdown",
   "id": "7cc11387",
   "metadata": {
    "id": "fBhTJL2rAI88"
   },
   "source": [
    "Discuss the results obtained!"
   ]
  },
  {
   "cell_type": "markdown",
   "id": "dbb7df57",
   "metadata": {
    "id": "V9aPoFvDAI89"
   },
   "source": [
    "*Markdown with answer here!*"
   ]
  },
  {
   "cell_type": "markdown",
   "id": "36bf3307",
   "metadata": {
    "id": "p6W7UW386F6K"
   },
   "source": [
    "## Final conclusions"
   ]
  },
  {
   "cell_type": "markdown",
   "id": "4f4a94f2",
   "metadata": {
    "id": "jU_skfOfAUcq"
   },
   "source": [
    "Which classifier do you prefer? Substantiate your answer!"
   ]
  },
  {
   "cell_type": "markdown",
   "id": "a1b14ddd",
   "metadata": {
    "id": "fFi-EquwAd5_"
   },
   "source": [
    "*Markdown with answer here!*"
   ]
  }
 ],
 "metadata": {},
 "nbformat": 4,
 "nbformat_minor": 5
}
