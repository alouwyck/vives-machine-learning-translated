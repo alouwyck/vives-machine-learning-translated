{
 "cells": [
  {
   "cell_type": "markdown",
   "id": "ac32e3e5",
   "metadata": {
    "colab_type": "text",
    "id": "view-in-github"
   },
   "source": [
    "<a href=\"https://colab.research.google.com/github/alouwyck/vives-machine-learning-translated/blob/main/06_logistic_regression/5_linear_classification_extra_exercises.ipynb\" target=\"_parent\"><img src=\"https://colab.research.google.com/assets/colab-badge.svg\" alt=\"Open In Colab\"/></a>"
   ]
  },
  {
   "cell_type": "markdown",
   "id": "62cde65d",
   "metadata": {
    "id": "lewAFonyBbSW"
   },
   "source": [
    "<img src=\"data:image/png;base64,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\" align=\"right\" /><br>\n",
    "\n",
    "\n",
    "**MACHINE LEARNING FUNDAMENTALS**<br>Andy Louwyck\n",
    "\n",
    "---\n",
    "\n",
    "\n",
    "\n",
    "---\n",
    "\n"
   ]
  },
  {
   "cell_type": "markdown",
   "id": "669d68df",
   "metadata": {
    "id": "fnYL85Y2PvrA"
   },
   "source": [
    "# LINEAR CLASSIFICATION: EXTRA EXERCISES"
   ]
  },
  {
   "cell_type": "markdown",
   "id": "7d9880f7",
   "metadata": {
    "id": "nFReg7k_P1UL"
   },
   "source": [
    "This notebook contains a few extra exercises on applying the perceptron algorithm and logistic regression.\n",
    "\n",
    "We also show how you can easily generate datasets yourself with the `sklearn` function `make_blobs`."
   ]
  },
  {
   "cell_type": "markdown",
   "id": "b7026127",
   "metadata": {
    "id": "Uy5-g2BrRfFG"
   },
   "source": [
    "Het systeem wordt getest op een dataset van 1000 samples, waarvan 800 samples gebruikt worden voor het trainen van de model en 200 samples voor het evalueren van de model."
   ]
  },
  {
   "cell_type": "markdown",
   "id": "a3b66f81",
   "metadata": {
    "id": "lBY8zRDZUJM-"
   },
   "source": [
    "Read the dataset 'bdiag.csv', which can be found here: https://bookdown.org/tpinto_home/Regression-and-Classification/logistic-regression.html. This dataset contains data from biopsies and the diagnosis whether the tissue examined is benign (English: benign) or malignant (English: malignant). To simplify the exercise, you will predict the 'diagnosis' based on the features 'texture_mean' and 'radius_mean'.\n",
    "\n",
    "Check the data by calculating the most important statistics for the requested features. You can do this using the 'DataFrame' method 'describe'. Make a scatterplot where you set `texture_mean` against `radius_mean`. Give the data points a green color when `diagnosis` is equal to `B`, and a red color when this label is `M`.\n",
    "\n",
    "Apply the perceptron algorithm and logistic regression. Predict the label `diagnosis` based on features `texture_mean` and `radius_mean`. Which of the two models has the highest accuracy?\n",
    "\n",
    "Plot the dataset again and add the classifier from the best model."
   ]
  },
  {
   "cell_type": "code",
   "execution_count": null,
   "id": "7fef7e79",
   "metadata": {
    "id": "jFe-BqFBjf-o"
   },
   "outputs": [],
   "source": [
    "Please provide the Dutch code you'd like me to translate into English. I'll be happy to help!"
   ]
  },
  {
   "cell_type": "markdown",
   "id": "5d483196",
   "metadata": {
    "id": "uPCdhzhaH3Gb"
   },
   "source": [
    "**Regression analysis with Python** \n",
    "\n",
    "In deze oefening zullen we een regressieanalyse uitvoeren met behulp van Python. We zullen gebruik maken van de bibliotheek **scikit-learn**. \n",
    "\n",
    "We beginnen met importeren van de benodigde bibliotheken. \n",
    "\n",
    "```python\n",
    "import pandas as pd\n",
    "from sklearn.model_selection import train_test_split\n",
    "from sklearn.linear_model import LinearRegression\n",
    "from sklearn import metrics\n",
    "```"
   ]
  },
  {
   "cell_type": "markdown",
   "id": "064da262",
   "metadata": {
    "id": "NYb6YDl8H5OI"
   },
   "source": [
    "Read the dataset 'Social_Network_Ads.csv'. You can find it also on [Kaggle](https://www.kaggle.com/datasets/dragonheir/logistic-regression).\n",
    "\n",
    "Check the data by calculating the most important statistics. You can do this by making use of the `DataFrame` method `describe`. Make a scatterplot where you set `Age` against `EstimatedSalary`. Give the data points a green color when `Purchased` is equal to `1`, and a red color when this label is `0`.\n",
    "\n",
    "Apply the perceptron algorithm and logistic regression. Predict the label `Purchased` based on features `Age` and `EstimatedSalary`. Which of the two models has the highest accuracy?\n",
    "\n",
    "Plot the dataset again and add the classifier from the best model.\n",
    "\n",
    "Finally, use the model to predict whether the following people will make a purchase or not:\n",
    " - a 21-year-old woman with a salary of 25,500\n",
    " - a 38-year-old man with a salary of 110,000\n",
    " - a 45-year-old man with a salary of 52,000\n",
    " - a 62-year-old woman with a salary of 120,000\n",
    "\n",
    "Print your predictions nicely and add the new data points to the scatterplot with the classifier to see if your result is correct."
   ]
  },
  {
   "cell_type": "code",
   "execution_count": null,
   "id": "3e3bdda0",
   "metadata": {
    "id": "3SOFdgnBjjv0"
   },
   "outputs": [],
   "source": [
    "Please provide the Dutch Python code you'd like me to translate into English."
   ]
  },
  {
   "cell_type": "markdown",
   "id": "7bbfcebf",
   "metadata": {
    "id": "KmtHEswqXEoc"
   },
   "source": [
    "### Oefening 3\n",
    "\n",
    "In de volgende tabel worden de resultaten van een serie experimenten weergegeven. Gebruik deze resultaten om de lineaire regressie te berekenen voor de variabelen x en y.\n",
    "\n",
    "| x | y |\n",
    "| --- | --- |\n",
    "| 1 | 3 |\n",
    "| 2 | 5 |\n",
    "| 3 | 7 |\n",
    "| 4 | 9 |\n",
    "| 5 | 11 |\n",
    "\n",
    "Bereken de lineaire regressiecoëfficiënt (a) en de intercept (b)."
   ]
  },
  {
   "cell_type": "markdown",
   "id": "1ad11c3f",
   "metadata": {
    "id": "b9ehwYYsakxS"
   },
   "source": [
    "In this exercise, we will create our own dataset using the `make_blobs` function from the `sklearn.datasets` module.\n",
    "\n",
    "Check the [documentation](https://scikit-learn.org/stable/modules/generated/sklearn.datasets.make_blobs.html) and create a dataset with 200 samples, 2 features, and 2 classes. Determine the number of classes by the number of `centers`. Set the random seed to 2023 according to input parameters `random_state`. Leave the other input arguments at their default value.\n",
    "\n",
    "If everything goes well, you will get a dataset whose 2 classes are perfectly separable. Check this by making a scatterplot.\n",
    "\n",
    "Then, apply the perceptron algorithm and logistic regression. Do you get 100% accuracy in both cases?\n",
    "\n",
    "Finally, make a scatterplot with the separating line of the logistic regression model."
   ]
  },
  {
   "cell_type": "code",
   "execution_count": null,
   "id": "dabc81ca",
   "metadata": {
    "id": "qeFIIrGjjmGz"
   },
   "outputs": [],
   "source": [
    "Please provide the Dutch code you'd like me to translate. I'll be happy to assist you!"
   ]
  },
  {
   "cell_type": "markdown",
   "id": "bcc53ae3",
   "metadata": {
    "id": "xvKv6wAscb19"
   },
   "source": [
    "## Exercise 4"
   ]
  },
  {
   "cell_type": "markdown",
   "id": "b40af420",
   "metadata": {
    "id": "fk_eCXBycb1-"
   },
   "source": [
    "Generate a new dataset using the `sklearn` function `make_blobs`. Create 1000 samples, 2 features, 2 classes, and take a standard deviation of 5 using the input parameter `cluster_std`. Set the `random_state` to 2023.\n",
    "\n",
    "Split the dataset into a training and test set using the `sklearn` function `train_test_split`, with 80% of the data in the training set. Make a scatterplot of the training set and the test set, using 2 subplots that stand side by side.\n",
    "\n",
    "Apply the perceptron algorithm and logistic regression to the training set. Evaluate both models using the test set. Select the model with the highest accuracy on the test set.\n",
    "\n",
    "Re-train the selected model on the full dataset. Calculate the accuracy and make a scatterplot with the separating line according to your final model."
   ]
  },
  {
   "cell_type": "code",
   "execution_count": null,
   "id": "8c277fdb",
   "metadata": {
    "id": "z27tHMpjjoZC"
   },
   "outputs": [],
   "source": [
    "Please provide the Dutch code you'd like me to translate to English. I'll be happy to assist you with the translation."
   ]
  },
  {
   "cell_type": "markdown",
   "id": "310bc29d",
   "metadata": {
    "id": "rZvnYrjxilMi"
   },
   "source": [
    "### Oefening 5\n",
    "\n",
    "In deze oefening wordt een lineaire regressie gebruikt om de relatie tussen de variabele X en de variabele Y te beschrijven. De dataset bevat 100 observaties en twee variabelen: X en Y.\n",
    "\n",
    "De doelstelling van deze oefening is om een lineaire regressiemodel te ontwikkelen dat het beste voorspelt de waarde van Y op basis van de waarde van X.\n",
    "\n",
    "**Een lineaire regressieformule**\n",
    "\n",
    "De lineaire regressieformule kan worden geschreven als:\n",
    "\n",
    "Y = β0 + β1X + ε\n",
    "\n",
    "Waarin:\n",
    "\n",
    "* Y is de afhankelijke variabele\n",
    "* X is de onafhankelijke variabele\n",
    "* β0 is de constante\n",
    "* β1 is de coefficient van X\n",
    "* ε is de residueltijdstip"
   ]
  },
  {
   "cell_type": "markdown",
   "id": "74505c87",
   "metadata": {
    "id": "jXzzN0pnis5w"
   },
   "source": [
    "Create your own datasets for binary classification with a perceptron or logistic regression. Play with the number of samples and features, and with the standard deviation. Split your dataset each time. Have fun!"
   ]
  },
  {
   "cell_type": "code",
   "execution_count": null,
   "id": "c3dd6841",
   "metadata": {
    "id": "w7DcUAHsjCYG"
   },
   "outputs": [],
   "source": [
    "Please provide the Dutch Python code you'd like me to translate. I'll be happy to help!"
   ]
  },
  {
   "cell_type": "markdown",
   "id": "f5038f94",
   "metadata": {
    "id": "OIGmZkm4jCyn"
   },
   "source": [
    "**REGRESSIE** is een vorm van *supervised learning*."
   ]
  }
 ],
 "metadata": {},
 "nbformat": 4,
 "nbformat_minor": 5
}
