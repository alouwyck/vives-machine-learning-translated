{
 "cells": [
  {
   "cell_type": "markdown",
   "id": "a09523b5",
   "metadata": {
    "colab_type": "text",
    "id": "view-in-github"
   },
   "source": [
    "<a href=\"https://colab.research.google.com/github/alouwyck/vives-machine-learning-translated/blob/main/12_naive_bayes/3_naive_bayes_exercises.ipynb\" target=\"_parent\"><img src=\"https://colab.research.google.com/assets/colab-badge.svg\" alt=\"Open In Colab\"/></a>"
   ]
  },
  {
   "cell_type": "markdown",
   "id": "f832248e",
   "metadata": {
    "id": "lewAFonyBbSW"
   },
   "source": [
    "<img src=\"data:image/png;base64,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\" align=\"right\" /><br>\n",
    "\n",
    "\n",
    "**MACHINE LEARNING FUNDAMENTALS**<br>Andy Louwyck\n",
    "\n",
    "---\n",
    "\n",
    "\n",
    "\n",
    "---\n",
    "\n"
   ]
  },
  {
   "cell_type": "markdown",
   "id": "87a59afa",
   "metadata": {
    "id": "kR2UuW1LkEl9"
   },
   "source": [
    "# **TOPIC 11: NAIVE BAYES - EXERCISES**"
   ]
  },
  {
   "cell_type": "markdown",
   "id": "9e88ed23",
   "metadata": {
    "id": "izBbxVIUL9Mq"
   },
   "source": [
    "## Exercise 1"
   ]
  },
  {
   "cell_type": "markdown",
   "id": "ee88433b",
   "metadata": {
    "id": "jjc2qNyyL_GV"
   },
   "source": [
    "Read the Excel file \"Play_Golf.xlsx\". Will the game be played when it is sunny and hot with high humidity and wind?\n",
    "\n",
    "Apply Naive Bayes to predict the answer to this question. Calculate the probabilities yourself and do not use Scikit-Learn.\n",
    "\n",
    "Then apply Scikit-Learn to predict whether or not the game will be played. Which Naive Bayes algorithm will you use here?\n",
    "\n",
    "A similar example about playing tennis is often used in the context of decision trees. Use Scikit-Learn to draw up a decision tree. Limit the maximum depth to 2. Plot the resulting decision tree. Predict again whether or not the game will be played."
   ]
  },
  {
   "cell_type": "code",
   "execution_count": null,
   "id": "99c78af4",
   "metadata": {
    "id": "T9I6rAKXrcIr"
   },
   "outputs": [],
   "source": []
  },
  {
   "cell_type": "markdown",
   "id": "cd5d4709",
   "metadata": {
    "id": "9yizqVFQLrT2"
   },
   "source": [
    "## Exercise 2"
   ]
  },
  {
   "cell_type": "markdown",
   "id": "ba268dce",
   "metadata": {
    "id": "UyWrLOVlTE4Z"
   },
   "source": [
    "Of course, Naive Bayes can also be used for classification problems other than text classification, such as predicting a patient's diagnosis.\n",
    "\n",
    "Read the file \"covid.csv\" that we saw earlier, and apply Naive Bayes to it. Use one of the Scikit-Learn algorithms. Why do you choose a particular algorithm? Or does it not matter in this case? What accuracy do you get?\n",
    "\n",
    "Finally, use the obtained model to predict whether or not the following patients are sick:\n",
    "- a patient who only coughs;\n",
    "- a patient who coughs and has a fever, but is not tired and has no breathing problems."
   ]
  },
  {
   "cell_type": "code",
   "execution_count": null,
   "id": "25d66eb1",
   "metadata": {
    "id": "oO_-iTrOreHr"
   },
   "outputs": [],
   "source": []
  },
  {
   "cell_type": "markdown",
   "id": "64cc74f6",
   "metadata": {
    "id": "LKVRmzfaRqCB"
   },
   "source": [
    "## Exercise 3"
   ]
  },
  {
   "cell_type": "markdown",
   "id": "d4067dfc",
   "metadata": {
    "id": "kYxvRMbfRtIB"
   },
   "source": [
    "Naive Bayes can also be used for recommender systems. We give a very simple example here.\n",
    "\n",
    "Read the file \"books.csv\". This dataset indicates whether or not a customer has bought a book. Would you recommend Kaat to buy Book 10?\n",
    "\n",
    "Apply one of the two Naive Bayes algorithms seen from Scikit-Learn to answer this question. Explain why you apply this algorithm."
   ]
  },
  {
   "cell_type": "code",
   "execution_count": null,
   "id": "ae87b831",
   "metadata": {
    "id": "HPBvVTgtrhDb"
   },
   "outputs": [],
   "source": []
  },
  {
   "cell_type": "markdown",
   "id": "f4652146",
   "metadata": {
    "id": "nMfwu6hc9BCj"
   },
   "source": [
    "## Exercise 4"
   ]
  },
  {
   "cell_type": "markdown",
   "id": "c5b9af99",
   "metadata": {
    "id": "OtWqSIYfoRo3"
   },
   "source": [
    "Read file `'reviews_python.csv'` with the (fictitious) reviews of the Python subject. Classify the reviews based on sentiment. Do this by applying the Naive Bayes algorithms that take into account (1) the number of times a word occurs in a review and (2) whether or not a word occurs. Calculate the accuracy each time. You do not have to split the dataset, so you train the algorithms on the entire dataset. Use the `CountVectorizer` from Scikit-Learn."
   ]
  },
  {
   "cell_type": "code",
   "execution_count": null,
   "id": "b41abfde",
   "metadata": {
    "id": "nQM64BYOridE"
   },
   "outputs": [],
   "source": []
  },
  {
   "cell_type": "markdown",
   "id": "0cef39e8",
   "metadata": {
    "id": "hmd6PeX99F2Q"
   },
   "source": [
    "## Exercise 5"
   ]
  },
  {
   "cell_type": "markdown",
   "id": "6adc8231",
   "metadata": {
    "id": "Y60VOJTYC00y"
   },
   "source": [
    "Read file `'candy-data.csv'`. Classify the candies based on feature `winpercent`. This feature must be transformed into a binary variable. Take a threshold of 50%. Do the same for the other quantitative variables so that you get a binary matrix. Now apply the appropriate Naive Bayes algorithm to train a classifier. Do this on the entire dataset. Set up a confusion matrix and a classification report with different metrics (accuracy, precision, recall and F1-score). Also apply KNN and compare."
   ]
  },
  {
   "cell_type": "code",
   "execution_count": null,
   "id": "62aa0ed9",
   "metadata": {
    "id": "dKgILsB4rlIj"
   },
   "outputs": [],
   "source": []
  },
  {
   "cell_type": "markdown",
   "id": "3c52deef",
   "metadata": {
    "id": "RLUYjmG-VZ3v"
   },
   "source": [
    "## Exercise 6"
   ]
  },
  {
   "cell_type": "markdown",
   "id": "a1fe8911",
   "metadata": {
    "id": "Afqzzu7XYVYN"
   },
   "source": [
    "- Download the following dataset: https://github.com/jeffprosise/Machine-Learning/blob/master/Data/ham-spam.csv.\n",
    "- Read the dataset as Pandas DataFrame and use method `info` to get an overview of the number of samples and columns.\n",
    "- Check whether the dataset is balanced or not.\n",
    "- Vectorize the text using Scikit-Learn class `CountVectorizer`.\n",
    "- Apply the 2 Naive Bayes algorithms that we discussed in this topic to classify the messages as ham or spam. You do not need to split the dataset.\n",
    "- Evaluate both models using a `classification_report`. Which of the two scores best?\n",
    "- Also apply logistic regression and create a `classification_report` again. Is this model better or worse than the Naive Bayes models?"
   ]
  },
  {
   "cell_type": "code",
   "execution_count": null,
   "id": "48cb943b",
   "metadata": {
    "id": "uvV4v05ErqCs"
   },
   "outputs": [],
   "source": []
  },
  {
   "cell_type": "markdown",
   "id": "993ec06c",
   "metadata": {
    "id": "TSzg5FhCkIrk"
   },
   "source": [
    "## Exercise 7"
   ]
  },
  {
   "cell_type": "markdown",
   "id": "2126f80b",
   "metadata": {
    "id": "pKYyVeZFoEbB"
   },
   "source": [
    "In this topic we focused on classifying text. In those cases the features consist of numbers (Multinomial Naive Bayes) or are binary (Bernoulli Naive Bayes). In this exercise we will give an example of a binary classification problem where all features are continuous and normally distributed. In this case we can apply Gaussian Naive Bayes.\n",
    "\n",
    "- Download the following dataset: https://www.kaggle.com/datasets/nelgiriyewithana/apple-quality.\n",
    "- Read the downloaded file `'apple_quality.csv'` as Pandas DataFrame.\n",
    "- Check the DataFrame by requesting the necessary `info`.\n",
    "- Clean up the DataFrame.\n",
    "- Request the summary statistics of the numerical features.\n",
    "- Make a histogram of each of the numerical features. Place the histograms next to each other by using `subplots`.\n",
    "- Check whether there are effectively only 2 labels.\n",
    "\n",
    "- Train a Guassian Naive Bayes model on the dataset. You don't need to split the dataset.\n",
    "- Also apply K Nearest Neighbors. Take K equal to the default value of Scikit-Learn.\n",
    "- Evaluate both models using a `classification_report`. Which one scores best?"
   ]
  },
  {
   "cell_type": "code",
   "execution_count": null,
   "id": "1a5628fb",
   "metadata": {
    "id": "h2-8HqoXrskz"
   },
   "outputs": [],
   "source": []
  },
  {
   "cell_type": "markdown",
   "id": "228c2413",
   "metadata": {
    "id": "LkCxcLJZHo-j"
   },
   "source": [
    "## Exercise 8"
   ]
  },
  {
   "cell_type": "markdown",
   "id": "818b8d88",
   "metadata": {
    "id": "-65cz9yYJgCO"
   },
   "source": [
    "- Read the file `'colors.csv'`. It contains text and associated labels.\n",
    "- Set up a model that classifies the text based on the given labels.\n",
    "- Split the dataset into training (80%), validation (10%) and test set (10%).\n",
    "- Train and validate the following models:\n",
    "- logistic regression;\n",
    "- naive Bayes.\n",
    "- Choose the best model and test it.\n",
    "- Do a final training and evaluation with the complete dataset.\n",
    "- For both validation and testing, always create a classification report with accuracy, precision, recall and F1 score.\n",
    "- Substantiate your choices."
   ]
  },
  {
   "cell_type": "code",
   "execution_count": null,
   "id": "5734419b",
   "metadata": {
    "id": "HfgSnMaOrvEy"
   },
   "outputs": [],
   "source": []
  }
 ],
 "metadata": {},
 "nbformat": 4,
 "nbformat_minor": 5
}
