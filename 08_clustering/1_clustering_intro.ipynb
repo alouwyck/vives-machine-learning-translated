{
 "cells": [
  {
   "cell_type": "markdown",
   "id": "a3ac02f2",
   "metadata": {
    "colab_type": "text",
    "id": "view-in-github"
   },
   "source": [
    "<a href=\"https://colab.research.google.com/github/alouwyck/vives-machine-learning-translated/blob/main/08_clustering/1_clustering_intro.ipynb\" target=\"_parent\"><img src=\"https://colab.research.google.com/assets/colab-badge.svg\" alt=\"Open In Colab\"/></a>"
   ]
  },
  {
   "cell_type": "markdown",
   "id": "83fe189d",
   "metadata": {
    "id": "p34cmLp6FrA6"
   },
   "source": [
    "<img src=\"data:image/png;base64,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\" align=\"right\" /><br>\n",
    "\n",
    "\n",
    "**MACHINE LEARNING FUNDAMENTALS**<br>Andy Louwyck\n",
    "\n",
    "---\n",
    "\n",
    "\n",
    "\n",
    "---\n",
    "\n"
   ]
  },
  {
   "cell_type": "markdown",
   "id": "ce9413c6",
   "metadata": {
    "id": "fKqsS2zVFu5M"
   },
   "source": [
    "# CLUSTERING: INTRO"
   ]
  },
  {
   "cell_type": "markdown",
   "id": "2aedd0bf",
   "metadata": {
    "id": "L1QNiq60IBBu"
   },
   "source": [
    "In this introduction to clustering we will implement a \"naive\" version of the well-known k-means clustering algorithm. We will apply the algorithm to a very limited dataset consisting of only 2 features. This will allow us to visualize the working of the algorithm nicely."
   ]
  },
  {
   "cell_type": "markdown",
   "id": "4410d2f8",
   "metadata": {
    "id": "2xJ454CIMu0B"
   },
   "source": [
    "We need the following packages:"
   ]
  },
  {
   "cell_type": "code",
   "execution_count": null,
   "id": "e52c462d",
   "metadata": {
    "id": "d9T2bMfUMwby"
   },
   "outputs": [],
   "source": [
    "import numpy as np\n",
    "import pandas as pd\n",
    "import matplotlib.pyplot as plt"
   ]
  },
  {
   "cell_type": "markdown",
   "id": "6260de0f",
   "metadata": {
    "id": "62BAjU6NMVHz"
   },
   "source": [
    "We read in \"mails.csv\". The separator is a semicolon."
   ]
  },
  {
   "cell_type": "code",
   "execution_count": null,
   "id": "fb17db18",
   "metadata": {
    "id": "Kqgl0DOdcs05"
   },
   "outputs": [],
   "source": []
  },
  {
   "cell_type": "markdown",
   "id": "64e8c25f",
   "metadata": {
    "id": "9ZOsfWsrScT1"
   },
   "source": [
    "We make a scatter plot."
   ]
  },
  {
   "cell_type": "code",
   "execution_count": null,
   "id": "073bc172",
   "metadata": {
    "id": "xqIzAhH_ct3U"
   },
   "outputs": [],
   "source": []
  },
  {
   "cell_type": "markdown",
   "id": "c30942de",
   "metadata": {
    "id": "f2Y65lKyNyS9"
   },
   "source": [
    "We select the features and put them into matrix `X`."
   ]
  },
  {
   "cell_type": "code",
   "execution_count": null,
   "id": "ef9573c0",
   "metadata": {
    "id": "4QM5crH2cu2p"
   },
   "outputs": [],
   "source": []
  },
  {
   "cell_type": "markdown",
   "id": "b1c6bd8c",
   "metadata": {
    "id": "a8YGp2iAM5BG"
   },
   "source": [
    "We are going to implement k-means step by step. Of course we take k = 3."
   ]
  },
  {
   "cell_type": "code",
   "execution_count": null,
   "id": "67695a4e",
   "metadata": {
    "id": "d32Lk4DTMlck"
   },
   "outputs": [],
   "source": [
    "k = 3"
   ]
  },
  {
   "cell_type": "markdown",
   "id": "4bfa2193",
   "metadata": {
    "id": "OGIHE3etNFmd"
   },
   "source": [
    "We select 3 random points from the dataset that will serve as our initial centroids. We use `random.choice` from NumPy, and work with the indices."
   ]
  },
  {
   "cell_type": "code",
   "execution_count": null,
   "id": "f496ca29",
   "metadata": {
    "id": "0PLgQOHKczhN"
   },
   "outputs": [],
   "source": []
  },
  {
   "cell_type": "markdown",
   "id": "efccbf94",
   "metadata": {
    "id": "8WF4TciJD2vW"
   },
   "source": [
    "We define a function `euclidean` that calculates the Euclidean distance between a matrix `X` with data points and a given centroid `c`. The Euclidean distance is equal to:\n",
    "\n",
    "`d = sqrt(sum(square(X - c)))`\n",
    "\n",
    "Be careful! You have to take the sum of the rows! So specify the correct `axis`!"
   ]
  },
  {
   "cell_type": "code",
   "execution_count": null,
   "id": "d65dc089",
   "metadata": {
    "id": "OxhUHe3Kc2OQ"
   },
   "outputs": [],
   "source": []
  },
  {
   "cell_type": "markdown",
   "id": "b03b2853",
   "metadata": {
    "id": "Kx6GGIxzBCzs"
   },
   "source": [
    "We also define a function `manhattan` for the Manhattan distance.\n",
    "\n",
    "`d = sum(abs(X - c))`\n",
    "\n",
    "Here too we have to take the sum of the rows!"
   ]
  },
  {
   "cell_type": "code",
   "execution_count": null,
   "id": "31e1d08c",
   "metadata": {
    "id": "msbcT8AdEG2M"
   },
   "outputs": [],
   "source": []
  },
  {
   "cell_type": "markdown",
   "id": "49f6d905",
   "metadata": {
    "id": "O2xF7xgfELTW"
   },
   "source": [
    "We test the functions with `[[1, 0], [0, 1], [1, 1], [0, 0]]` and `[1, 1]`. The respective Euclidean distances should be `1`, `1`, `0`, and `sqrt(2)`."
   ]
  },
  {
   "cell_type": "code",
   "execution_count": null,
   "id": "f68392af",
   "metadata": {
    "id": "AqLnDYApEO7W"
   },
   "outputs": [],
   "source": []
  },
  {
   "cell_type": "markdown",
   "id": "56eda4d3",
   "metadata": {
    "id": "OajmQOBEBcC6"
   },
   "source": [
    "The respective Manhattan distances must be `1`, `1`, `0`, and `2`."
   ]
  },
  {
   "cell_type": "code",
   "execution_count": null,
   "id": "1872e287",
   "metadata": {
    "id": "eUrfxGa6c3R6"
   },
   "outputs": [],
   "source": []
  },
  {
   "cell_type": "markdown",
   "id": "1a6638aa",
   "metadata": {
    "id": "M6Hw-PSeQEtm"
   },
   "source": [
    "We now calculate the distances between the data points and the 3 randomly selected centroids. We put those distances in a matrix `D` with number of rows equal to the number of data points and number of columns equal to the number of centroids."
   ]
  },
  {
   "cell_type": "code",
   "execution_count": null,
   "id": "ad50631e",
   "metadata": {
    "id": "zWdzcXirc49O"
   },
   "outputs": [],
   "source": []
  },
  {
   "cell_type": "markdown",
   "id": "68eed7b6",
   "metadata": {
    "id": "m-ZNSxoXQ84h"
   },
   "source": [
    "For each data point we select the centroid that is closest. We apply `argmin` to our distance matrix `D`. Don't forget to work on the rows here too! So here too you have to specify the correct `axis`!"
   ]
  },
  {
   "cell_type": "code",
   "execution_count": null,
   "id": "2074bc83",
   "metadata": {
    "id": "TRNlAoq7c6Ft"
   },
   "outputs": [],
   "source": []
  },
  {
   "cell_type": "markdown",
   "id": "fd91053a",
   "metadata": {
    "id": "kvqXZmZUEZA6"
   },
   "source": [
    "We just need to calculate the new centroids. We take the average of the coordinates of the data points that are in the same cluster. Hence the name of the algorithm. Be careful! Here we have to work on the columns!"
   ]
  },
  {
   "cell_type": "code",
   "execution_count": null,
   "id": "c481e1a5",
   "metadata": {
    "id": "H3SswqlPc7xr"
   },
   "outputs": [],
   "source": []
  },
  {
   "cell_type": "markdown",
   "id": "29230e68",
   "metadata": {
    "id": "R9RjGqdNSz4S"
   },
   "source": [
    "We now have to repeat all these steps a sufficient number of times. For that we define a function `kmeans`. Besides the dataset `X` and the number of clusters `k`, we also have to specify the number of iterations `niter`. And we also provide an input parameter `distance` which contains the function to calculate the distances between data points and centroids. The default value is function `euclidean`."
   ]
  },
  {
   "cell_type": "code",
   "execution_count": null,
   "id": "97cb54ad",
   "metadata": {
    "id": "r6kh-jtic8xY"
   },
   "outputs": [],
   "source": []
  },
  {
   "cell_type": "markdown",
   "id": "96b9d6e9",
   "metadata": {
    "id": "aBBV4Yi3UJZf"
   },
   "source": [
    "We apply the function to our dataset."
   ]
  },
  {
   "cell_type": "code",
   "execution_count": null,
   "id": "8a1cd209",
   "metadata": {
    "id": "3Z6-okMZc-_g"
   },
   "outputs": [],
   "source": []
  },
  {
   "cell_type": "markdown",
   "id": "a99d6a50",
   "metadata": {
    "id": "XEDqOZ0qUMPM"
   },
   "source": [
    "We plot the result. We define a function `plot_kmeans` for this."
   ]
  },
  {
   "cell_type": "code",
   "execution_count": null,
   "id": "5114e88a",
   "metadata": {
    "id": "nxhW82PxVP0i"
   },
   "outputs": [],
   "source": [
    "def plot_kmeans(X, clusters, centroids, colors): k = centroids.shape[0] for i in range(k): plt.plot(X[clusters==i, 0], X[clusters==i, 1 ], colors[i] + 'o');  # datapoints = circles plt.plot(centroids[i, 0], centroids[i, 1], colors[i] + \"s\");  # centroid = square plt.grid();"
   ]
  },
  {
   "cell_type": "code",
   "execution_count": null,
   "id": "43abc73b",
   "metadata": {
    "id": "U5fSkqccdF62"
   },
   "outputs": [],
   "source": []
  },
  {
   "cell_type": "markdown",
   "id": "0609d611",
   "metadata": {
    "id": "zBfc37dJaNZ5"
   },
   "source": [
    "We still need to be able to make predictions. For that we define a function `predict`."
   ]
  },
  {
   "cell_type": "code",
   "execution_count": null,
   "id": "e21233ec",
   "metadata": {
    "id": "s7XG7m6EdHEv"
   },
   "outputs": [],
   "source": []
  },
  {
   "cell_type": "markdown",
   "id": "8fda7b35",
   "metadata": {
    "id": "rrXfnuqKankr"
   },
   "source": [
    "We test our function `predict` with 2 new emails with size 15 and 30 and recipients 2 and 5, respectively."
   ]
  },
  {
   "cell_type": "code",
   "execution_count": null,
   "id": "bb3a6597",
   "metadata": {
    "id": "4sxf9sPjdKQN"
   },
   "outputs": [],
   "source": [
    "Xnew = np.array([[15, 2], [30, 5]])"
   ]
  },
  {
   "cell_type": "code",
   "execution_count": null,
   "id": "8f65142d",
   "metadata": {
    "id": "U7Pkw_6ZdMOa"
   },
   "outputs": [],
   "source": []
  }
 ],
 "metadata": {},
 "nbformat": 4,
 "nbformat_minor": 5
}
